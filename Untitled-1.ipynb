{
 "cells": [
  {
   "cell_type": "code",
   "execution_count": 1,
   "metadata": {},
   "outputs": [
    {
     "name": "stderr",
     "output_type": "stream",
     "text": [
      "2023-07-31 14:57:38.585 \n",
      "  \u001b[33m\u001b[1mWarning:\u001b[0m to view this Streamlit app on a browser, run it with the following\n",
      "  command:\n",
      "\n",
      "    streamlit run C:\\Users\\Admin\\AppData\\Roaming\\Python\\Python311\\site-packages\\ipykernel_launcher.py [ARGUMENTS]\n"
     ]
    },
    {
     "data": {
      "text/plain": [
       "DeltaGenerator()"
      ]
     },
     "execution_count": 1,
     "metadata": {},
     "output_type": "execute_result"
    }
   ],
   "source": [
    "import streamlit as st\n",
    "import pandas as pd\n",
    "import plost\n",
    "\n",
    "st.set_page_config(layout='wide', initial_sidebar_state='expanded')\n",
    "\n",
    "with open('style.css') as f:\n",
    "    st.markdown(f'<style>{f.read()}</style>', unsafe_allow_html=True)\n",
    "    \n",
    "st.sidebar.header('Dashboard `version 2`')\n",
    "\n",
    "st.sidebar.subheader('Heat map parameter')\n",
    "time_hist_color = st.sidebar.selectbox('Color by', ('temp_min', 'temp_max')) \n",
    "\n",
    "st.sidebar.subheader('Donut chart parameter')\n",
    "donut_theta = st.sidebar.selectbox('Select data', ('q2', 'q3'))\n",
    "\n",
    "st.sidebar.subheader('Line chart parameters')\n",
    "plot_data = st.sidebar.multiselect('Select data', ['temp_min', 'temp_max'], ['temp_min', 'temp_max'])\n",
    "plot_height = st.sidebar.slider('Specify plot height', 200, 500, 250)\n",
    "\n",
    "# Row A\n",
    "st.markdown('### Metrics')\n",
    "col1, col2, col3 = st.columns(3)\n",
    "col1.metric(\"Temperature\", \"70 °F\", \"1.2 °F\")\n",
    "col2.metric(\"Wind\", \"9 mph\", \"-8%\")\n",
    "col3.metric(\"Humidity\", \"86%\", \"4%\")\n",
    "\n",
    "# Row B\n",
    "seattle_weather = pd.read_csv('https://raw.githubusercontent.com/tvst/plost/master/data/seattle-weather.csv', parse_dates=['date'])\n",
    "stocks = pd.read_csv('https://raw.githubusercontent.com/dataprofessor/data/master/stocks_toy.csv')\n",
    "\n",
    "c1, c2 = st.columns((7,3))\n",
    "with c1:\n",
    "    st.markdown('### Heatmap')\n",
    "    plost.time_hist(\n",
    "    data=seattle_weather,\n",
    "    date='date',\n",
    "    x_unit='week',\n",
    "    y_unit='day',\n",
    "    color=time_hist_color,\n",
    "    aggregate='median',\n",
    "    legend=None,\n",
    "    height=345,\n",
    "    use_container_width=True)\n",
    "with c2:\n",
    "    st.markdown('### Donut chart')\n",
    "    plost.donut_chart(\n",
    "        data=stocks,\n",
    "        theta=donut_theta,\n",
    "        color='company',\n",
    "        legend='bottom', \n",
    "        use_container_width=True)\n",
    "\n",
    "# Row C\n",
    "st.markdown('### Line chart')\n",
    "st.line_chart(seattle_weather, x = 'date', y = plot_data, height = plot_height)"
   ]
  },
  {
   "cell_type": "code",
   "execution_count": 2,
   "metadata": {},
   "outputs": [
    {
     "name": "stdout",
     "output_type": "stream",
     "text": [
      "Requirement already satisfied: plost in c:\\users\\admin\\appdata\\local\\programs\\python\\python311\\lib\\site-packages (0.2.5)\n"
     ]
    },
    {
     "name": "stderr",
     "output_type": "stream",
     "text": [
      "\n",
      "[notice] A new release of pip available: 22.3.1 -> 23.2.1\n",
      "[notice] To update, run: python.exe -m pip install --upgrade pip\n"
     ]
    }
   ],
   "source": [
    "!pip install plost"
   ]
  },
  {
   "cell_type": "code",
   "execution_count": 3,
   "metadata": {},
   "outputs": [
    {
     "ename": "TypeError",
     "evalue": "unsupported operand type(s) for -: 'str' and 'relativedelta'",
     "output_type": "error",
     "traceback": [
      "\u001b[1;31m---------------------------------------------------------------------------\u001b[0m",
      "\u001b[1;31mTypeError\u001b[0m                                 Traceback (most recent call last)",
      "Cell \u001b[1;32mIn[3], line 14\u001b[0m\n\u001b[0;32m     12\u001b[0m st\u001b[39m.\u001b[39msidebar\u001b[39m.\u001b[39mtitle(\u001b[39m\"\u001b[39m\u001b[39mExchange Rate Dashboard\u001b[39m\u001b[39m\"\u001b[39m)\n\u001b[0;32m     13\u001b[0m selected_currency \u001b[39m=\u001b[39m st\u001b[39m.\u001b[39msidebar\u001b[39m.\u001b[39mselectbox(\u001b[39m'\u001b[39m\u001b[39mSelect Currency Pair\u001b[39m\u001b[39m'\u001b[39m, df[\u001b[39m'\u001b[39m\u001b[39mCurrency Pair\u001b[39m\u001b[39m'\u001b[39m]\u001b[39m.\u001b[39munique())\n\u001b[1;32m---> 14\u001b[0m selected_date_range \u001b[39m=\u001b[39m st\u001b[39m.\u001b[39;49msidebar\u001b[39m.\u001b[39;49mdate_input(\u001b[39m'\u001b[39;49m\u001b[39mSelect Date Range\u001b[39;49m\u001b[39m'\u001b[39;49m, [df[\u001b[39m'\u001b[39;49m\u001b[39mDate\u001b[39;49m\u001b[39m'\u001b[39;49m]\u001b[39m.\u001b[39;49mmin(), df[\u001b[39m'\u001b[39;49m\u001b[39mDate\u001b[39;49m\u001b[39m'\u001b[39;49m]\u001b[39m.\u001b[39;49mmax()])\n\u001b[0;32m     16\u001b[0m \u001b[39m# Filter data based on user inputs\u001b[39;00m\n\u001b[0;32m     17\u001b[0m filtered_data \u001b[39m=\u001b[39m df[(df[\u001b[39m'\u001b[39m\u001b[39mCurrency Pair\u001b[39m\u001b[39m'\u001b[39m] \u001b[39m==\u001b[39m selected_currency) \u001b[39m&\u001b[39m (df[\u001b[39m'\u001b[39m\u001b[39mDate\u001b[39m\u001b[39m'\u001b[39m]\u001b[39m.\u001b[39mbetween(selected_date_range[\u001b[39m0\u001b[39m], selected_date_range[\u001b[39m1\u001b[39m]))]\n",
      "File \u001b[1;32mc:\\Users\\Admin\\AppData\\Local\\Programs\\Python\\Python311\\Lib\\site-packages\\streamlit\\runtime\\metrics_util.py:356\u001b[0m, in \u001b[0;36mgather_metrics.<locals>.wrapped_func\u001b[1;34m(*args, **kwargs)\u001b[0m\n\u001b[0;32m    354\u001b[0m         _LOGGER\u001b[39m.\u001b[39mdebug(\u001b[39m\"\u001b[39m\u001b[39mFailed to collect command telemetry\u001b[39m\u001b[39m\"\u001b[39m, exc_info\u001b[39m=\u001b[39mex)\n\u001b[0;32m    355\u001b[0m \u001b[39mtry\u001b[39;00m:\n\u001b[1;32m--> 356\u001b[0m     result \u001b[39m=\u001b[39m non_optional_func(\u001b[39m*\u001b[39;49margs, \u001b[39m*\u001b[39;49m\u001b[39m*\u001b[39;49mkwargs)\n\u001b[0;32m    357\u001b[0m \u001b[39mfinally\u001b[39;00m:\n\u001b[0;32m    358\u001b[0m     \u001b[39m# Activate tracking again if command executes without any exceptions\u001b[39;00m\n\u001b[0;32m    359\u001b[0m     \u001b[39mif\u001b[39;00m ctx:\n",
      "File \u001b[1;32mc:\\Users\\Admin\\AppData\\Local\\Programs\\Python\\Python311\\Lib\\site-packages\\streamlit\\elements\\time_widgets.py:507\u001b[0m, in \u001b[0;36mTimeWidgetsMixin.date_input\u001b[1;34m(self, label, value, min_value, max_value, key, help, on_change, args, kwargs, format, disabled, label_visibility)\u001b[0m\n\u001b[0;32m    419\u001b[0m \u001b[39m\u001b[39m\u001b[39mr\u001b[39m\u001b[39m\"\"\"Display a date input widget.\u001b[39;00m\n\u001b[0;32m    420\u001b[0m \n\u001b[0;32m    421\u001b[0m \u001b[39mParameters\u001b[39;00m\n\u001b[1;32m   (...)\u001b[0m\n\u001b[0;32m    504\u001b[0m \n\u001b[0;32m    505\u001b[0m \u001b[39m\"\"\"\u001b[39;00m\n\u001b[0;32m    506\u001b[0m ctx \u001b[39m=\u001b[39m get_script_run_ctx()\n\u001b[1;32m--> 507\u001b[0m \u001b[39mreturn\u001b[39;00m \u001b[39mself\u001b[39;49m\u001b[39m.\u001b[39;49m_date_input(\n\u001b[0;32m    508\u001b[0m     label\u001b[39m=\u001b[39;49mlabel,\n\u001b[0;32m    509\u001b[0m     value\u001b[39m=\u001b[39;49mvalue,\n\u001b[0;32m    510\u001b[0m     min_value\u001b[39m=\u001b[39;49mmin_value,\n\u001b[0;32m    511\u001b[0m     max_value\u001b[39m=\u001b[39;49mmax_value,\n\u001b[0;32m    512\u001b[0m     key\u001b[39m=\u001b[39;49mkey,\n\u001b[0;32m    513\u001b[0m     help\u001b[39m=\u001b[39;49mhelp,\n\u001b[0;32m    514\u001b[0m     on_change\u001b[39m=\u001b[39;49mon_change,\n\u001b[0;32m    515\u001b[0m     args\u001b[39m=\u001b[39;49margs,\n\u001b[0;32m    516\u001b[0m     kwargs\u001b[39m=\u001b[39;49mkwargs,\n\u001b[0;32m    517\u001b[0m     disabled\u001b[39m=\u001b[39;49mdisabled,\n\u001b[0;32m    518\u001b[0m     label_visibility\u001b[39m=\u001b[39;49mlabel_visibility,\n\u001b[0;32m    519\u001b[0m     \u001b[39mformat\u001b[39;49m\u001b[39m=\u001b[39;49m\u001b[39mformat\u001b[39;49m,\n\u001b[0;32m    520\u001b[0m     ctx\u001b[39m=\u001b[39;49mctx,\n\u001b[0;32m    521\u001b[0m )\n",
      "File \u001b[1;32mc:\\Users\\Admin\\AppData\\Local\\Programs\\Python\\Python311\\Lib\\site-packages\\streamlit\\elements\\time_widgets.py:553\u001b[0m, in \u001b[0;36mTimeWidgetsMixin._date_input\u001b[1;34m(self, label, value, min_value, max_value, key, help, on_change, args, kwargs, format, disabled, label_visibility, ctx)\u001b[0m\n\u001b[0;32m    546\u001b[0m \u001b[39mif\u001b[39;00m \u001b[39mnot\u001b[39;00m \u001b[39mbool\u001b[39m(ALLOWED_DATE_FORMATS\u001b[39m.\u001b[39mmatch(\u001b[39mformat\u001b[39m)):\n\u001b[0;32m    547\u001b[0m     \u001b[39mraise\u001b[39;00m StreamlitAPIException(\n\u001b[0;32m    548\u001b[0m         \u001b[39mf\u001b[39m\u001b[39m\"\u001b[39m\u001b[39mThe provided format (`\u001b[39m\u001b[39m{\u001b[39;00m\u001b[39mformat\u001b[39m\u001b[39m}\u001b[39;00m\u001b[39m`) is not valid. DateInput format \u001b[39m\u001b[39m\"\u001b[39m\n\u001b[0;32m    549\u001b[0m         \u001b[39m\"\u001b[39m\u001b[39mshould be one of `YYYY/MM/DD`, `DD/MM/YYYY`, or `MM/DD/YYYY` \u001b[39m\u001b[39m\"\u001b[39m\n\u001b[0;32m    550\u001b[0m         \u001b[39m\"\u001b[39m\u001b[39mand can also use a period (.) or hyphen (-) as separators.\u001b[39m\u001b[39m\"\u001b[39m\n\u001b[0;32m    551\u001b[0m     )\n\u001b[1;32m--> 553\u001b[0m parsed_values \u001b[39m=\u001b[39m _DateInputValues\u001b[39m.\u001b[39;49mfrom_raw_values(\n\u001b[0;32m    554\u001b[0m     value\u001b[39m=\u001b[39;49mvalue,\n\u001b[0;32m    555\u001b[0m     min_value\u001b[39m=\u001b[39;49mmin_value,\n\u001b[0;32m    556\u001b[0m     max_value\u001b[39m=\u001b[39;49mmax_value,\n\u001b[0;32m    557\u001b[0m )\n\u001b[0;32m    558\u001b[0m \u001b[39mdel\u001b[39;00m value, min_value, max_value\n\u001b[0;32m    560\u001b[0m date_input_proto \u001b[39m=\u001b[39m DateInputProto()\n",
      "File \u001b[1;32mc:\\Users\\Admin\\AppData\\Local\\Programs\\Python\\Python311\\Lib\\site-packages\\streamlit\\elements\\time_widgets.py:144\u001b[0m, in \u001b[0;36m_DateInputValues.from_raw_values\u001b[1;34m(cls, value, min_value, max_value)\u001b[0m\n\u001b[0;32m    133\u001b[0m \u001b[39m@classmethod\u001b[39m\n\u001b[0;32m    134\u001b[0m \u001b[39mdef\u001b[39;00m \u001b[39mfrom_raw_values\u001b[39m(\n\u001b[0;32m    135\u001b[0m     \u001b[39mcls\u001b[39m,\n\u001b[1;32m   (...)\u001b[0m\n\u001b[0;32m    138\u001b[0m     max_value: SingleDateValue,\n\u001b[0;32m    139\u001b[0m ) \u001b[39m-\u001b[39m\u001b[39m>\u001b[39m \u001b[39m\"\u001b[39m\u001b[39m_DateInputValues\u001b[39m\u001b[39m\"\u001b[39m:\n\u001b[0;32m    140\u001b[0m     parsed_value, is_range \u001b[39m=\u001b[39m _parse_date_value(value\u001b[39m=\u001b[39mvalue)\n\u001b[0;32m    141\u001b[0m     \u001b[39mreturn\u001b[39;00m \u001b[39mcls\u001b[39m(\n\u001b[0;32m    142\u001b[0m         value\u001b[39m=\u001b[39mparsed_value,\n\u001b[0;32m    143\u001b[0m         is_range\u001b[39m=\u001b[39mis_range,\n\u001b[1;32m--> 144\u001b[0m         \u001b[39mmin\u001b[39m\u001b[39m=\u001b[39m_parse_min_date(\n\u001b[0;32m    145\u001b[0m             min_value\u001b[39m=\u001b[39;49mmin_value,\n\u001b[0;32m    146\u001b[0m             parsed_dates\u001b[39m=\u001b[39;49mparsed_value,\n\u001b[0;32m    147\u001b[0m         ),\n\u001b[0;32m    148\u001b[0m         \u001b[39mmax\u001b[39m\u001b[39m=\u001b[39m_parse_max_date(\n\u001b[0;32m    149\u001b[0m             max_value\u001b[39m=\u001b[39mmax_value,\n\u001b[0;32m    150\u001b[0m             parsed_dates\u001b[39m=\u001b[39mparsed_value,\n\u001b[0;32m    151\u001b[0m         ),\n\u001b[0;32m    152\u001b[0m     )\n",
      "File \u001b[1;32mc:\\Users\\Admin\\AppData\\Local\\Programs\\Python\\Python311\\Lib\\site-packages\\streamlit\\elements\\time_widgets.py:95\u001b[0m, in \u001b[0;36m_parse_min_date\u001b[1;34m(min_value, parsed_dates)\u001b[0m\n\u001b[0;32m     93\u001b[0m \u001b[39melif\u001b[39;00m min_value \u001b[39mis\u001b[39;00m \u001b[39mNone\u001b[39;00m:\n\u001b[0;32m     94\u001b[0m     \u001b[39mif\u001b[39;00m parsed_dates:\n\u001b[1;32m---> 95\u001b[0m         parsed_min_date \u001b[39m=\u001b[39m parsed_dates[\u001b[39m0\u001b[39;49m] \u001b[39m-\u001b[39;49m relativedelta\u001b[39m.\u001b[39;49mrelativedelta(years\u001b[39m=\u001b[39;49m\u001b[39m10\u001b[39;49m)\n\u001b[0;32m     96\u001b[0m     \u001b[39melse\u001b[39;00m:\n\u001b[0;32m     97\u001b[0m         parsed_min_date \u001b[39m=\u001b[39m date\u001b[39m.\u001b[39mtoday() \u001b[39m-\u001b[39m relativedelta\u001b[39m.\u001b[39mrelativedelta(years\u001b[39m=\u001b[39m\u001b[39m10\u001b[39m)\n",
      "\u001b[1;31mTypeError\u001b[0m: unsupported operand type(s) for -: 'str' and 'relativedelta'"
     ]
    }
   ],
   "source": [
    "import streamlit as st\n",
    "import pandas as pd\n",
    "\n",
    "# Load data from a CSV file (You can replace this with your own data source)\n",
    "data_url = 'https://raw.githubusercontent.com/Cato2802/Toto_dashboard/main/D%E1%BB%AF%20li%E1%BB%87u%20L%E1%BB%8Bch%20s%E1%BB%AD%20USD_VND%20(1).csv'\n",
    "df = pd.read_csv(data_url)\n",
    "\n",
    "# Set page configuration\n",
    "st.set_page_config(page_title=\"Exchange Rate Dashboard\", layout='wide', initial_sidebar_state='expanded')\n",
    "\n",
    "# Sidebar (Input controls)\n",
    "st.sidebar.title(\"Exchange Rate Dashboard\")\n",
    "selected_currency = st.sidebar.selectbox('Select Currency Pair', df['Currency Pair'].unique())\n",
    "selected_date_range = st.sidebar.date_input('Select Date Range', [df['Date'].min(), df['Date'].max()])\n",
    "\n",
    "# Filter data based on user inputs\n",
    "filtered_data = df[(df['Currency Pair'] == selected_currency) & (df['Date'].between(selected_date_range[0], selected_date_range[1]))]\n",
    "\n",
    "# Display the filtered data in a table\n",
    "st.dataframe(filtered_data)\n",
    "\n",
    "# Line chart for Open, Close, High, Low prices, and Change\n",
    "st.markdown(\"### Exchange Rate Trends\")\n",
    "st.line_chart(filtered_data.set_index('Date')[['Open', 'Close', 'High', 'Low']])\n",
    "\n",
    "# Line chart for Daily Change\n",
    "st.markdown(\"### Daily Change\")\n",
    "st.line_chart(filtered_data.set_index('Date')['Change'])\n",
    "\n",
    "# Bar chart for Daily Change\n",
    "st.markdown(\"### Daily Change Bar Chart\")\n",
    "st.bar_chart(filtered_data.set_index('Date')['Change'])\n",
    "\n",
    "# Area chart for Daily Change\n",
    "st.markdown(\"### Daily Change Area Chart\")\n",
    "st.area_chart(filtered_data.set_index('Date')['Change'])\n"
   ]
  },
  {
   "cell_type": "code",
   "execution_count": 7,
   "metadata": {},
   "outputs": [
    {
     "name": "stderr",
     "output_type": "stream",
     "text": [
      "C:\\Users\\Admin\\AppData\\Local\\Temp\\ipykernel_5868\\1367220045.py:1: UserWarning: Parsing dates in DD/MM/YYYY format when dayfirst=False (the default) was specified. This may lead to inconsistently parsed dates! Specify a format to ensure consistent parsing.\n",
      "  df = pd.read_csv('Dữ liệu Lịch sử USD_VND (1).csv', parse_dates=['Date'])\n"
     ]
    }
   ],
   "source": [
    "df = pd.read_csv('Dữ liệu Lịch sử USD_VND (1).csv', parse_dates=['Date'])"
   ]
  },
  {
   "cell_type": "code",
   "execution_count": 10,
   "metadata": {},
   "outputs": [
    {
     "name": "stderr",
     "output_type": "stream",
     "text": [
      "C:\\Users\\Admin\\AppData\\Local\\Temp\\ipykernel_5868\\2523319309.py:30: UserWarning: Parsing dates in DD/MM/YYYY format when dayfirst=False (the default) was specified. This may lead to inconsistently parsed dates! Specify a format to ensure consistent parsing.\n",
      "  usd_vnd = pd.read_csv('https://raw.githubusercontent.com/Cato2802/Toto_dashboard/main/D%E1%BB%AF%20li%E1%BB%87u%20L%E1%BB%8Bch%20s%E1%BB%AD%20USD_VND%20(1).csv', parse_dates=['date'])\n"
     ]
    },
    {
     "data": {
      "text/plain": [
       "DeltaGenerator()"
      ]
     },
     "execution_count": 10,
     "metadata": {},
     "output_type": "execute_result"
    }
   ],
   "source": [
    "import streamlit as st\n",
    "import pandas as pd\n",
    "import plost\n",
    "\n",
    "st.set_page_config(layout='wide', initial_sidebar_state='expanded')\n",
    "\n",
    "with open('style.css') as f:\n",
    "    st.markdown(f'<style>{f.read()}</style>', unsafe_allow_html=True)\n",
    "\n",
    "st.sidebar.header('Dashboard')\n",
    "\n",
    "st.sidebar.subheader('Heat map parameter')\n",
    "time_hist_color = st.sidebar.selectbox('Color by', ('open', 'close'))\n",
    "\n",
    "st.sidebar.subheader('Donut chart parameter')\n",
    "donut_theta = st.sidebar.selectbox('Select data', ('q2', 'q3'))\n",
    "\n",
    "st.sidebar.subheader('Line chart parameters')\n",
    "plot_data = st.sidebar.multiselect('Select data', ['open', 'close'], ['open', 'close'])\n",
    "plot_height = st.sidebar.slider('Specify plot height', 200, 500, 250)\n",
    "\n",
    "# Row A\n",
    "st.markdown('### Metrics')\n",
    "col1, col2, col3 = st.columns(3)\n",
    "col1.metric(\"USD/VND\", \"23,667 VND\", \"1.2 VND\")\n",
    "col2.metric(\"Change\", \"0.2%\", \"-8%\")\n",
    "col3.metric(\"Volume\", \"1 million\", \"4 million\")\n",
    "\n",
    "# Row B\n",
    "usd_vnd = pd.read_csv('https://raw.githubusercontent.com/Cato2802/Toto_dashboard/main/D%E1%BB%AF%20li%E1%BB%87u%20L%E1%BB%8Bch%20s%E1%BB%AD%20USD_VND%20(1).csv', parse_dates=['date'])\n",
    "\n",
    "c1, c2 = st.columns((7,3))\n",
    "with c1:\n",
    "    st.markdown('### Heatmap')\n",
    "    plost.time_hist(\n",
    "    data=usd_vnd,\n",
    "    date='date',\n",
    "    x_unit='week',\n",
    "    y_unit='day',\n",
    "    color=time_hist_color,\n",
    "    aggregate='median',\n",
    "    legend=None,\n",
    "    height=345,\n",
    "    use_container_width=True)\n",
    "with c2:\n",
    "    st.markdown('### Donut chart')\n",
    "    plost.donut_chart(\n",
    "        data=usd_vnd,\n",
    "        theta=donut_theta,\n",
    "        color='currency pair',\n",
    "        legend='bottom', \n",
    "        use_container_width=True)\n",
    "\n",
    "# Row C\n",
    "st.markdown('### Line chart')\n",
    "st.line_chart(usd_vnd, x = 'date', y = plot_data, height = plot_height)"
   ]
  },
  {
   "cell_type": "code",
   "execution_count": 11,
   "metadata": {},
   "outputs": [
    {
     "name": "stderr",
     "output_type": "stream",
     "text": [
      "C:\\Users\\Admin\\AppData\\Local\\Temp\\ipykernel_5868\\2056009521.py:26: UserWarning: Parsing dates in DD/MM/YYYY format when dayfirst=False (the default) was specified. This may lead to inconsistently parsed dates! Specify a format to ensure consistent parsing.\n",
      "  usd_vnd = pd.read_csv('https://raw.githubusercontent.com/Cato2802/Toto_dashboard/main/D%E1%BB%AF%20li%E1%BB%87u%20L%E1%BB%8Bch%20s%E1%BB%AD%20USD_VND%20(1).csv', parse_dates=['date'])\n"
     ]
    },
    {
     "data": {
      "text/plain": [
       "DeltaGenerator()"
      ]
     },
     "execution_count": 11,
     "metadata": {},
     "output_type": "execute_result"
    }
   ],
   "source": [
    "import streamlit as st\n",
    "import pandas as pd\n",
    "import plost\n",
    "\n",
    "st.set_page_config(layout='wide', initial_sidebar_state='expanded')\n",
    "\n",
    "with open('style.css') as f:\n",
    "    st.markdown(f'<style>{f.read()}</style>', unsafe_allow_html=True)\n",
    "\n",
    "st.sidebar.header('Dashboard')\n",
    "\n",
    "st.sidebar.subheader('Heat map parameter')\n",
    "time_hist_color = st.sidebar.selectbox('Color by', ('open', 'close'))\n",
    "\n",
    "st.sidebar.subheader('Line chart parameters')\n",
    "plot_height = st.sidebar.slider('Specify plot height', 200, 500, 250)\n",
    "\n",
    "# Row A\n",
    "st.markdown('### Metrics')\n",
    "col1, col2, col3 = st.columns(3)\n",
    "col1.metric(\"USD/VND\", \"23,667 VND\", \"1.2 VND\")\n",
    "col2.metric(\"Change\", \"0.2%\", \"-8%\")\n",
    "col3.metric(\"Volume\", \"1 million\", \"4 million\")\n",
    "\n",
    "# Row B\n",
    "usd_vnd = pd.read_csv('https://raw.githubusercontent.com/Cato2802/Toto_dashboard/main/D%E1%BB%AF%20li%E1%BB%87u%20L%E1%BB%8Bch%20s%E1%BB%AD%20USD_VND%20(1).csv', parse_dates=['date'])\n",
    "\n",
    "c1, c2 = st.columns((7,3))\n",
    "with c1:\n",
    "    st.markdown('### Line chart for Open and Close')\n",
    "    st.line_chart(usd_vnd.set_index('date')[['open', 'close']], height=plot_height)\n",
    "\n",
    "# Row C\n",
    "st.markdown('### Line chart')\n",
    "st.line_chart(usd_vnd, x='date', y=plot_data, height=plot_height)\n"
   ]
  }
 ],
 "metadata": {
  "kernelspec": {
   "display_name": "Python 3",
   "language": "python",
   "name": "python3"
  },
  "language_info": {
   "codemirror_mode": {
    "name": "ipython",
    "version": 3
   },
   "file_extension": ".py",
   "mimetype": "text/x-python",
   "name": "python",
   "nbconvert_exporter": "python",
   "pygments_lexer": "ipython3",
   "version": "3.11.2"
  },
  "orig_nbformat": 4
 },
 "nbformat": 4,
 "nbformat_minor": 2
}
